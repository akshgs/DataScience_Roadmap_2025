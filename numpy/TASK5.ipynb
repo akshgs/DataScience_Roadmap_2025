{
 "cells": [
  {
   "cell_type": "markdown",
   "id": "cfb7bf15-0fbd-4f3a-b69b-d41e9c5d8807",
   "metadata": {},
   "source": [
    "# Generate random integers (1–100)"
   ]
  },
  {
   "cell_type": "code",
   "execution_count": 3,
   "id": "49bab81a-27ce-4d07-b563-7d3ffb30e9e6",
   "metadata": {},
   "outputs": [],
   "source": [
    "import numpy as np"
   ]
  },
  {
   "cell_type": "code",
   "execution_count": 7,
   "id": "7b0928ae-c3c4-47a8-9f1c-83e99253aa46",
   "metadata": {},
   "outputs": [
    {
     "name": "stdout",
     "output_type": "stream",
     "text": [
      "[88 14 73 99 51 11 18 69  1 25 17 73 70 71 58 80 47 20 28 31]\n"
     ]
    }
   ],
   "source": [
    "a=np.random.randint(1,100,size=20)\n",
    "print(a)"
   ]
  },
  {
   "cell_type": "markdown",
   "id": "66d6c417-37fe-40a6-a1dd-285ce74728d0",
   "metadata": {},
   "source": [
    "# Compute sum, mean, standard deviation."
   ]
  },
  {
   "cell_type": "code",
   "execution_count": 11,
   "id": "3dda64be-1ddb-4ea7-91ba-b6393c0b113d",
   "metadata": {},
   "outputs": [
    {
     "name": "stdout",
     "output_type": "stream",
     "text": [
      "21\n",
      "3.5\n",
      "1.707825127659933\n"
     ]
    }
   ],
   "source": [
    "a=np.array([1,2,3,4,5,6])\n",
    "print(np.sum(a))\n",
    "print(np.mean(a))\n",
    "print(np.std(a))"
   ]
  },
  {
   "cell_type": "markdown",
   "id": "4f4ab56d-75b6-454c-aaed-4a7b3b633ed6",
   "metadata": {},
   "source": [
    "# Create an identity matrix with eye()."
   ]
  },
  {
   "cell_type": "code",
   "execution_count": 14,
   "id": "ee4c40bb-4a1f-4529-8ce7-d20bc37b71b2",
   "metadata": {},
   "outputs": [
    {
     "name": "stdout",
     "output_type": "stream",
     "text": [
      "[[1 0 0 0]\n",
      " [0 1 0 0]\n",
      " [0 0 1 0]\n",
      " [0 0 0 1]]\n"
     ]
    }
   ],
   "source": [
    "a=np.eye(4,4,dtype=int)\n",
    "print(a)"
   ]
  },
  {
   "cell_type": "markdown",
   "id": "b37f9dc7-dd52-42cd-879d-9d820587c74a",
   "metadata": {},
   "source": [
    "\n",
    "# Generate 5 random integers between 1 and 20."
   ]
  },
  {
   "cell_type": "code",
   "execution_count": 19,
   "id": "0ee66ba1-ab88-4346-8dd4-a26ed53239d1",
   "metadata": {},
   "outputs": [
    {
     "name": "stdout",
     "output_type": "stream",
     "text": [
      "[84 17 25 51 49]\n"
     ]
    }
   ],
   "source": [
    "a=np.random.randint(1,100,size=5)\n",
    "print(a)"
   ]
  },
  {
   "cell_type": "markdown",
   "id": "8d0ffa3b-cde6-49fd-ba84-22f97fb20996",
   "metadata": {},
   "source": [
    "\n",
    "# Create a 5×5 random integer matrix and find its mean and standard deviation.\n"
   ]
  },
  {
   "cell_type": "code",
   "execution_count": 29,
   "id": "58d3876c-eac0-4767-9af5-d239baf5be1b",
   "metadata": {},
   "outputs": [
    {
     "name": "stdout",
     "output_type": "stream",
     "text": [
      "[[58 55 84  2 68]\n",
      " [77 18 31 40 21]\n",
      " [49 61 60 57 73]\n",
      " [80 75 91 79 94]\n",
      " [52 68 85 18 28]]\n",
      "standerd devetion 24.948715397791528\n"
     ]
    }
   ],
   "source": [
    "a=np.random.randint(1,100,(5,5))\n",
    "print(a)\n",
    "print('standerd devetion',np.std(a))"
   ]
  },
  {
   "cell_type": "markdown",
   "id": "3c40d8c9-3ca8-4f39-9c36-9563f8ef3f3b",
   "metadata": {},
   "source": [
    "# Find the most frequent number in a random array of 100 integers (0–10)."
   ]
  },
  {
   "cell_type": "code",
   "execution_count": 42,
   "id": "65c19a4f-6bc5-405b-b728-2874b3f6c825",
   "metadata": {},
   "outputs": [
    {
     "name": "stdout",
     "output_type": "stream",
     "text": [
      "[2 7 5 5 5 3 2 5 3 3 1 5 5 8 9 9 5 8 5 8 1 5 8 7 2 7 9 4 8 3 8 4 4 3 5 3 7\n",
      " 4 5 8 5 6 2 8 3 2 5 7 2 8 9 6 3 5 9 5 9 2 8 9 8 8 8 9 5 7 8 4 2 4 6 2 9 9\n",
      " 7 9 7 6 9 6 4 3 4 9 5 9 6 2 1 3 9 1 1 1 9 1 3 1 5 6]\n",
      "5\n",
      "18\n"
     ]
    }
   ],
   "source": [
    "ar=np.random.randint(1,10,size=100)\n",
    "print(ar)\n",
    "value,count=np.unique(ar,return_counts=True)\n",
    "m=value[np.argmax(count)]\n",
    "f=count.max()\n",
    "print(m)\n",
    "print(f)"
   ]
  },
  {
   "cell_type": "markdown",
   "id": "86a215c6-4c96-4282-9294-6d3b523d006a",
   "metadata": {},
   "source": [
    "# Normalize a 4×4 random integer array (scale values between 0 and 1).\n"
   ]
  },
  {
   "cell_type": "code",
   "execution_count": 47,
   "id": "7ce5d0ef-df2f-431f-9481-da5ddb63e20e",
   "metadata": {},
   "outputs": [
    {
     "name": "stdout",
     "output_type": "stream",
     "text": [
      "[[4 9 8 7]\n",
      " [7 1 5 3]\n",
      " [6 9 4 8]\n",
      " [8 2 6 9]]\n",
      "[[0.375 1.    0.875 0.75 ]\n",
      " [0.75  0.    0.5   0.25 ]\n",
      " [0.625 1.    0.375 0.875]\n",
      " [0.875 0.125 0.625 1.   ]]\n"
     ]
    }
   ],
   "source": [
    "ary=np.random.randint(1,10,(4,4))\n",
    "print(ary)\n",
    "norm_arr = (ary-ary.min())/(ary.max()-ary.min())\n",
    "print(norm_arr)"
   ]
  },
  {
   "cell_type": "markdown",
   "id": "93654ada-7980-4420-9a25-b6fe3df31090",
   "metadata": {},
   "source": [
    "# Create two random 3×3 matrices and perform matrix multiplication."
   ]
  },
  {
   "cell_type": "code",
   "execution_count": 54,
   "id": "9039f11c-3b06-4695-a219-9a03291e85d1",
   "metadata": {},
   "outputs": [
    {
     "name": "stdout",
     "output_type": "stream",
     "text": [
      "[[10 14  1]\n",
      " [ 9  6  6]\n",
      " [15 19  7]] [[ 6 14  9]\n",
      " [ 5 15  6]\n",
      " [ 1 18  4]]\n",
      "multiplication\n",
      " [[131 368 178]\n",
      " [ 90 324 141]\n",
      " [192 621 277]]\n"
     ]
    }
   ],
   "source": [
    "a=np.random.randint(1,20,(3,3))\n",
    "b=np.random.randint(1,20,(3,3))\n",
    "print(a,b)\n",
    "c=np.matmul(a,b)\n",
    "print('multiplication\\n',c)"
   ]
  },
  {
   "cell_type": "code",
   "execution_count": null,
   "id": "b7849cdc-0c51-4638-88d1-d1e969533cb4",
   "metadata": {},
   "outputs": [],
   "source": []
  }
 ],
 "metadata": {
  "kernelspec": {
   "display_name": "Python (DataScience)",
   "language": "python",
   "name": "ds_env"
  },
  "language_info": {
   "codemirror_mode": {
    "name": "ipython",
    "version": 3
   },
   "file_extension": ".py",
   "mimetype": "text/x-python",
   "name": "python",
   "nbconvert_exporter": "python",
   "pygments_lexer": "ipython3",
   "version": "3.12.11"
  }
 },
 "nbformat": 4,
 "nbformat_minor": 5
}
