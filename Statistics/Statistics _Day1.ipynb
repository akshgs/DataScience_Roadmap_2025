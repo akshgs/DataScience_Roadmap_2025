{
 "cells": [
  {
   "cell_type": "markdown",
   "id": "6afc8266-9ccd-4001-bade-5592f693f429",
   "metadata": {},
   "source": [
    "# What is Statistics"
   ]
  },
  {
   "cell_type": "markdown",
   "id": "d0b54777-30b8-4837-8c1d-e2ac19cd7bab",
   "metadata": {},
   "source": [
    "Statistics is the dicipline that deals with the collection,organisation,analysis,interpretations and presention of data to meaningfull information and support decision-making in the face of uncertinty"
   ]
  },
  {
   "cell_type": "markdown",
   "id": "ec3dc1da-0524-4eca-9eb1-af0f1bf7181c",
   "metadata": {},
   "source": [
    "# Types of Statistics"
   ]
  },
  {
   "cell_type": "markdown",
   "id": "629cd24b-edb0-4f0b-9ff5-d390e3a38b8f",
   "metadata": {},
   "source": [
    "- Descripitve Statistics\n",
    "- Inferential Statistics "
   ]
  },
  {
   "cell_type": "markdown",
   "id": "3da31ecc-3407-4d6f-ad88-2b1acba0a4b9",
   "metadata": {},
   "source": [
    "# Descripitve Statistics\n",
    "- Focuses on summarizing and presenting data sets (e.g., mean, median, mode, dispersion)\n",
    "\n",
    "- example : In a dataset of exam scores — 85, 90, 75, 92, and 88 — the mean (average) is 86, the median (middle value) is 88, and the mode (most frequent value) is none because all values are distinct."
   ]
  },
  {
   "cell_type": "markdown",
   "id": "cb4a0bc0-5502-496c-9eba-1a5e0527998a",
   "metadata": {},
   "source": [
    "# Inferential statistics\n",
    "-  Involves using sample data to make predictions or generalizations about a larger population.\n",
    "\n",
    "-  example : A pharmaceutical company tests a new blood pressure medication on 200 patients. The average reduction is 15 mmHg, and a t-test determines if this difference is statistically significant compared to untreated patients."
   ]
  },
  {
   "cell_type": "markdown",
   "id": "53a882c1-a5b0-4bb2-baab-977d7695daab",
   "metadata": {},
   "source": [
    "| Aspect        | Descriptive Statistics                    | Inferential Statistics                       |\n",
    "|---------------|------------------------------------------|---------------------------------------------|\n",
    "| Goal          | Summarize data                            | Draw conclusions about population           |\n",
    "| Data Used     | Entire dataset or sample                  | Sample to infer about population            |\n",
    "| Methods       | Measures of central tendency, variability| Hypothesis tests, confidence intervals      |\n",
    "| Outputs       | Tables, graphs, summary statistics       | Statistical tests, p-values, intervals     |\n"
   ]
  },
  {
   "cell_type": "code",
   "execution_count": null,
   "id": "17500f05-4c8a-426c-b0bc-8ace57895d07",
   "metadata": {},
   "outputs": [],
   "source": [
    "\n"
   ]
  }
 ],
 "metadata": {
  "kernelspec": {
   "display_name": "Python (DataScience)",
   "language": "python",
   "name": "ds_env"
  },
  "language_info": {
   "codemirror_mode": {
    "name": "ipython",
    "version": 3
   },
   "file_extension": ".py",
   "mimetype": "text/x-python",
   "name": "python",
   "nbconvert_exporter": "python",
   "pygments_lexer": "ipython3",
   "version": "3.12.11"
  }
 },
 "nbformat": 4,
 "nbformat_minor": 5
}
