{
 "cells": [
  {
   "cell_type": "markdown",
   "id": "56d1f0d4-7500-4e46-932a-7d9f53812aca",
   "metadata": {},
   "source": [
    "# Data & Measurement Scales"
   ]
  },
  {
   "cell_type": "markdown",
   "id": "910c7317-1b7f-4b73-b414-79fbd2c6b90d",
   "metadata": {},
   "source": [
    "## What is Data\n",
    "- Data refers to facts, figures, or information collected for analysis. In data science, we often classify data based on how it's measured or categorized."
   ]
  },
  {
   "cell_type": "markdown",
   "id": "8c82fbaa-4e52-4412-9bb1-58ff49878a39",
   "metadata": {},
   "source": [
    "## Types of Data"
   ]
  },
  {
   "cell_type": "markdown",
   "id": "6bd1f960-36ce-429a-afb1-511316aa785f",
   "metadata": {},
   "source": [
    "### A. Qualitative Data\n",
    "\n",
    "- Desceibe qulities or categories\n",
    "- Cannot be measurd in numbers (mostly lables or names)\n",
    "\n",
    "- example :- Gender (Male/Female), Color (Red/Blue/Green), Type of Car."
   ]
  },
  {
   "cell_type": "markdown",
   "id": "668ca760-8831-436b-bddd-c580f002151e",
   "metadata": {},
   "source": [
    "### B. Qunatitative Data\n",
    "\n",
    "- Represnt numerical values that can be measured\n",
    "\n",
    "- example :- Height, Weight, Salary, Temperature."
   ]
  },
  {
   "cell_type": "markdown",
   "id": "06d7e632-7945-421e-88fa-23856929d598",
   "metadata": {},
   "source": [
    "### Further divided into:\n",
    "- Discrete data : Countable numbers (e.g., number of students = 30).\n",
    "- Continous data : Measurable values (e.g., height = 5.7 feet)."
   ]
  },
  {
   "cell_type": "markdown",
   "id": "77eb301b-fc2e-4c04-96f0-a03927d10970",
   "metadata": {},
   "source": [
    "### Measurement Scale\n",
    "\n",
    "Meseurement scales define how data is categorized, ordered, and measured\n",
    "there are four main scale"
   ]
  },
  {
   "cell_type": "markdown",
   "id": "e6b3138d-b422-4a32-8205-da4d1782727e",
   "metadata": {},
   "source": [
    "## Types of Measurement Scales"
   ]
  },
  {
   "cell_type": "markdown",
   "id": "b7a3d975-a3a4-45cf-9d52-3f59414f0e4d",
   "metadata": {},
   "source": [
    "### 1. Nominal Scale\n",
    "\n",
    "- categories data without any order\n",
    "\n",
    "- example:- Gender: male, female, color: Red,Bule ,Cityname: kozhikode, kochi\n",
    "\n",
    "  \n",
    "   "
   ]
  },
  {
   "cell_type": "markdown",
   "id": "7663ac71-0c70-4cae-a7c2-62cccf84fb4a",
   "metadata": {},
   "source": [
    "### 2. Ordinal Scale \n",
    "\n",
    "- Categories data with a meaning full order, but no consist difference between values\n",
    "\n",
    "- Example :- Satisfaction: Verry happy>happy>Neutal>Sad"
   ]
  },
  {
   "cell_type": "markdown",
   "id": "ae958b8b-78cd-40b6-a368-4e34c8c7a303",
   "metadata": {},
   "source": [
    "### 3. Intervel Scale\n",
    "\n",
    "- Order categories with equal intervels, but no true zero\n",
    "\n",
    "- Example :- Temperature in celsius or fahernheit"
   ]
  },
  {
   "cell_type": "markdown",
   "id": "d0022de9-16ea-4cc0-a223-61878cac0a78",
   "metadata": {},
   "source": [
    "### 4. Ratio Scale\n",
    "\n",
    "- Like intervel but with in a true zero, allowing full math oparations\n",
    "\n",
    "- Example:- Height , Weight , Age"
   ]
  },
  {
   "cell_type": "markdown",
   "id": "81833a32-e009-455d-b95f-3a7686d9d099",
   "metadata": {},
   "source": [
    "## 4. Summary Table\n",
    "\n",
    "| **Scale Type** | **Nature** | **Order** | **Equal Interval** | **True Zero** | **Examples** |\n",
    "|----------------|-------------|------------|--------------------|---------------|---------------|\n",
    "| Nominal | Categorical | ✖ | ✖ | ✖ | Gender, Colors |\n",
    "| Ordinal | Categorical | ✔ | ✖ | ✖ | Rank, Satisfaction level |\n",
    "| Interval | Numerical | ✔ | ✔ | ✖ | Temperature (°C) |\n",
    "| Ratio | Numerical | ✔ | ✔ | ✔ | Weight, Height, Age |"
   ]
  },
  {
   "cell_type": "code",
   "execution_count": null,
   "id": "bad920f2-5273-4980-b858-b0b46d384e05",
   "metadata": {},
   "outputs": [],
   "source": []
  }
 ],
 "metadata": {
  "kernelspec": {
   "display_name": "Python (DataScience)",
   "language": "python",
   "name": "ds_env"
  },
  "language_info": {
   "codemirror_mode": {
    "name": "ipython",
    "version": 3
   },
   "file_extension": ".py",
   "mimetype": "text/x-python",
   "name": "python",
   "nbconvert_exporter": "python",
   "pygments_lexer": "ipython3",
   "version": "3.12.11"
  }
 },
 "nbformat": 4,
 "nbformat_minor": 5
}
