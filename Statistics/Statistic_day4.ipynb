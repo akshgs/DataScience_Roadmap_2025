{
 "cells": [
  {
   "cell_type": "markdown",
   "id": "1ce1ae00-73c6-4f52-954c-204007c9b2f4",
   "metadata": {},
   "source": [
    "# Central Tendency & Dispersion\n",
    "## Definition\n",
    "Central Tendency refers to the statistical measure that represent the center point or typical value of data set\n",
    "it helps to summarize a dataset with a single value reprenting the \"average\" behaviour"
   ]
  },
  {
   "cell_type": "markdown",
   "id": "b5e589b6-74d4-47b4-aa30-6abf3700de8d",
   "metadata": {},
   "source": [
    "# Importence in Data Science\n",
    "- provide a summary of data for quick understanding\n",
    "- helps data preprocessing and feature engineering\n",
    "- useful in outlier and understanding distributions"
   ]
  },
  {
   "cell_type": "markdown",
   "id": "4a296dd4-8781-42fe-a91a-7cb046bd9af3",
   "metadata": {},
   "source": [
    "### Measures of Central Tendency\n",
    "\n",
    "| **Measure** | **Definition** | **Formula / How to Calculate** | **Example** | **When to Use** |\n",
    "|-------------|----------------|-------------------------------|-------------|----------------|\n",
    "| **Mean (Average)** | Sum of all values divided by the total number of values | \\(\\bar{X} = \\frac{\\sum X}{N}\\) | Data: 10, 20, 30 → Mean = (10+20+30)/3 = 20 | Use when data has no extreme values (outliers) |\n",
    "| **Median** | Middle value when data is arranged in ascending or descending order | If odd → middle value; If even → average of two middle values | Data: 10, 20, 30, 40 → Median = (20+30)/2 = 25 | Use when data has outliers or is skewed |\n",
    "| **Mode** | Most frequently occurring value | The value that appears most often | Data: 2, 3, 3, 4, 5 → Mode = 3 | Use when interested in the most common value |\n"
   ]
  },
  {
   "cell_type": "markdown",
   "id": "5499e6a4-4c16-44a6-85c6-e3bd0e615ae7",
   "metadata": {},
   "source": [
    "# What is Dispersion\n",
    "## Definition:\n",
    "Dispersion measure how much the data values are scatterd or speard out around a central value"
   ]
  },
  {
   "cell_type": "markdown",
   "id": "4a08d57e-15d4-4197-b5a3-9e6ad82515f7",
   "metadata": {},
   "source": [
    "# Importence in Data Scinece\n",
    "- Helps understand variability or consistency in data\n",
    "- Dectect outlier and unusel obdervation\n",
    "- Useful for statistical and machine learing models"
   ]
  },
  {
   "cell_type": "markdown",
   "id": "61cebd77-fb72-4dee-8871-6606313568db",
   "metadata": {},
   "source": [
    "# Common Measures of Spered\n",
    "## A. Range\n",
    "### Definition:\n",
    "The difference between the largest and samllest value in the dataset\n",
    "### formula:\n",
    "##### Range= Maximum value- Minimum value\n",
    "### Example:\n",
    "Data: 10, 15, 20, 25, 30\n",
    "Range = 30 - 10 = 20\n",
    "\n",
    "### Notes:\n",
    "\n",
    "- Simple to calculate.\n",
    "\n",
    "- Only considers extreme values, so sensitive to outliers"
   ]
  },
  {
   "cell_type": "markdown",
   "id": "fd1779f1-6f74-4744-bfb4-7657feb33675",
   "metadata": {},
   "source": [
    "## B. Varrience\n",
    "### Definition:\n",
    "Varrience measure how far each data points from mean or avarage, squared. it gives a sense of overall sperad\n",
    "\n",
    "**Formulas:**  \n",
    "- **Population Variance:**  \n",
    "\\[\n",
    "\\sigma^2 = \\frac{\\sum_{i=1}^{N} (X_i - \\mu)^2}{N}\n",
    "\\] \n",
    "- **Sample Variance:**  \n",
    "\\[\n",
    "s^2 = \\frac{\\sum (X_i - \\bar{X})^2}{n-1}\n",
    "\\]\n",
    "**Example:**  \n",
    "Data: 10, 15, 20, 25, 30 → Mean = 20  \n",
    "\n",
    "Squared deviations: (10-20)²=100, (15-20)²=25, (20-20)²=0, (25-20)²=25, (30-20)²=100  \n",
    "Sum = 250 → Sample Variance = 250 / (5-1) = 62.5  \n",
    "\n",
    "**Notes:**  \n",
    "- Unit is squared (e.g., kg² if data in kg)  \n",
    "\n",
    "---"
   ]
  },
  {
   "cell_type": "markdown",
   "id": "83cde709-d6d6-4e83-aae1-f5439e99071e",
   "metadata": {},
   "source": [
    "# Standerd Deviation (SD)\n",
    "**Definition:**\n",
    "Square root of varience ; show average deavtion from mean in the **same unit as data**\n",
    "**formula:**\n",
    "\\[\n",
    "\\sigma = \\sqrt{\\sigma^2} \\quad \\text{or} \\quad s = \\sqrt{s^2}\n",
    "\\] \n",
    "\n",
    "**Example**\n",
    "Sample Variance = 62.5 → SD = √62.5 ≈ 7.91  \n",
    "\n",
    "**Interpretation:**  \n",
    "- Small SD → data clustered around mean  \n",
    "- Large SD → data widely spread  "
   ]
  },
  {
   "cell_type": "markdown",
   "id": "d8af53e8-13b4-4b5b-9927-87683a656b26",
   "metadata": {},
   "source": [
    "# Coefficient of Varriation (CV)\n",
    "**Definition:**\n",
    "SD reletive to mean, expressed as a percentage. useful for **comparing variablility between datasets**\n",
    "\\[\n",
    "CV = \\frac{SD}{Mean} \\times 100\n",
    "\\]  \n",
    "\n",
    "**Example:** Mean = 50, SD = 5 → CV = (5/50)*100 = 10%  \n",
    "\n",
    "**Interpretation:**  \n",
    "- Lower CV → data more consistent  \n",
    "- Higher CV → data more variable  \n",
    "\n",
    "---"
   ]
  },
  {
   "cell_type": "markdown",
   "id": "7195f948-2c95-47b0-aefa-e3e8403b7ad6",
   "metadata": {},
   "source": [
    "## Summary Table\n",
    "\n",
    "| **Measure** | **Definition** | **Formula** | **Example / Notes** |\n",
    "|-------------|----------------|-------------|------------------|\n",
    "| Range | Difference between max & min | Range = Max - Min | Quick idea of spread, sensitive to outliers |\n",
    "| Variance | Average squared deviation from mean | Population: σ² = Σ(X-μ)²/N <br> Sample: s² = Σ(X- X̄)²/(n-1) | Measures variability, unit squared |\n",
    "| Standard Deviation (SD) | Square root of variance | σ = √σ² | Average deviation, same unit as data |\n",
    "| Coefficient of Variation (CV) | SD relative to mean (%) | CV = SD / Mean × 100 | Compare spread across datasets |\n",
    "\n",
    "---"
   ]
  },
  {
   "cell_type": "markdown",
   "id": "f07673cb-784e-493b-b095-6d73378db58f",
   "metadata": {},
   "source": [
    "### Relationship Between Central Tendency & Dispersion\n",
    "\n",
    "| **Aspect** | **Central Tendency** | **Dispersion** |\n",
    "|------------|--------------------|----------------|\n",
    "| **Purpose** | Summarizes the data with a single value | Shows how much the data varies around the central value |\n",
    "| **What it tells** | Typical or average value of data | Spread or variability of data points |\n",
    "| **Use in Data Science** | Provides quick summary of dataset | Helps in understanding consistency, detecting outliers, and scaling features |\n",
    "| **Examples** | Mean, Median, Mode | Range, Variance, Standard Deviation |\n",
    "| **Applications** | Data visualization (histograms, boxplots) | Statistical modeling, hypothesis testing, feature scaling in ML |\n"
   ]
  },
  {
   "cell_type": "code",
   "execution_count": null,
   "id": "a157f19e-175f-4201-b2f3-a9bafe5c2d46",
   "metadata": {},
   "outputs": [],
   "source": []
  }
 ],
 "metadata": {
  "kernelspec": {
   "display_name": "Python (DataScience)",
   "language": "python",
   "name": "ds_env"
  },
  "language_info": {
   "codemirror_mode": {
    "name": "ipython",
    "version": 3
   },
   "file_extension": ".py",
   "mimetype": "text/x-python",
   "name": "python",
   "nbconvert_exporter": "python",
   "pygments_lexer": "ipython3",
   "version": "3.12.11"
  }
 },
 "nbformat": 4,
 "nbformat_minor": 5
}
