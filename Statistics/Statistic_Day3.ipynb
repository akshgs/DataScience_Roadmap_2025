{
 "cells": [
  {
   "cell_type": "markdown",
   "id": "6678398c-4796-4e94-b151-7f8f4a2a32ea",
   "metadata": {},
   "source": [
    "# What is poppulation\n",
    "\n",
    "## Definition\n",
    "\n",
    "- A population is the entire group of a individuals , items, or data that you want to study or draw conclusions about\n",
    "\n",
    "- #### Example\n",
    "\n",
    "- All student in a collage\n",
    "\n",
    "- All custmor in a company\n",
    "\n",
    "- All household in a india\n",
    "\n",
    "- #### Key Point:\n",
    "\n",
    "- Studying the whole population is often time-consuming, costly, or impossible — that’s why we use samplin"
   ]
  },
  {
   "cell_type": "markdown",
   "id": "6a99b2ac-0e11-48ea-8540-6ba48405fb2a",
   "metadata": {},
   "source": [
    "# What is Sampling\n",
    "\n",
    "## Definition\n",
    "\n",
    "- Sampling is the process of selecting a samll portion from the population to represent the whole group\n",
    "\n",
    "#### Example:\n",
    "\n",
    "if your population is 10,000 student you may survay 500 student of understand the opinion of all\n",
    "\n",
    "#### purpose:\n",
    "\n",
    "- To make reserch easier and faster\n",
    "- To save time money and effort\n",
    "- To  draw conclusions about the population useing statistical method\n"
   ]
  },
  {
   "cell_type": "markdown",
   "id": "a39bfed8-dcb2-4188-91f1-9402bd5c7d39",
   "metadata": {},
   "source": [
    "# 📋 Population & Sampling – Key Terms\n",
    "\n",
    "| **Term** | **Meaning** | **Example** |\n",
    "|-----------|-------------|--------------|\n",
    "| **Population** | The complete set of individuals, items, or data that you want to study. | All voters in India |\n",
    "| **Sample** | A smaller group taken from the population to represent it. | 1,000 voters chosen for survey |\n",
    "| **Sampling Frame** | The list or database from which a sample is drawn. | Voter list |\n",
    "| **Sampling Unit** | Each individual element or member of the population. | Each voter |\n",
    "| **Parameter** | A numerical value that describes a population characteristic. | Average income of all citizens |\n",
    "| **Statistic** | A numerical value that describes a sample characteristic. | Average income of 500 surveyed citizens |\n"
   ]
  },
  {
   "cell_type": "markdown",
   "id": "6cfef0b6-9de8-4e0e-821f-66949edc82be",
   "metadata": {},
   "source": [
    "# Types of Sampling Method"
   ]
  },
  {
   "cell_type": "markdown",
   "id": "fc9eae01-73d7-4494-bf37-5c7699c9ef88",
   "metadata": {},
   "source": [
    "## A. Probability Sampling\n",
    "Every member of the population has a known and equal chance of being selected"
   ]
  },
  {
   "cell_type": "markdown",
   "id": "99ac7a91-b451-44b9-a46a-9edb83998f68",
   "metadata": {},
   "source": [
    "### Types:\n",
    "\n",
    "#### 1. Simple Random Sampling :\n",
    "- Every element has an equal chance  (e.g.,lottery method).\n",
    "#### 2. Systematic Sampling :\n",
    "- Select every nth element (e.g., every 10th student).\n",
    "#### 3. Stratified Sampling :\n",
    "- Divide population into groups and take random sample from each\n",
    "#### 4. Cluster Sampling :\n",
    "- Divide population into cluster, then randomly selcet entire cluster"
   ]
  },
  {
   "cell_type": "markdown",
   "id": "fd50eae6-5814-407b-81f8-77f23d407823",
   "metadata": {},
   "source": [
    "# B. Non-Probability Sampling\n",
    "Not every one has an equal chance of being selected. used when random selection isn't possible or practical"
   ]
  },
  {
   "cell_type": "markdown",
   "id": "7c408d67-7f86-4353-8c39-d2fb44f17e46",
   "metadata": {},
   "source": [
    "## Types: \n",
    "\n",
    "#### 1. Convenience Sampling:\n",
    "- Choosing people who are easy to reach\n",
    "#### 2. Judgemental/Purposive Sampling:\n",
    "- Researcher choose based on judgement\n",
    "#### 3. Quota Sampling:\n",
    "- Sampling based on certian charateristics (e.g,50 males, 50 females)\n",
    "#### 4. Snowball Sampling :\n",
    "- Existing participants recruit new ones(used in rare populations)"
   ]
  },
  {
   "cell_type": "markdown",
   "id": "e2a9ab7a-bc8b-4186-acaa-c374d9f5bfea",
   "metadata": {},
   "source": [
    "# Importence of Sampling\n",
    "- Saves time and cost\n",
    "- Make data collection easier\n",
    "- reduces workload while maintaing accuracy\n",
    "- Helps in making inference about a larage poppulation "
   ]
  },
  {
   "cell_type": "markdown",
   "id": "03825ca8-2ef3-434a-b49b-0229d56bbeeb",
   "metadata": {},
   "source": [
    "# 📊 Population & Sampling – Example Summary\n",
    "\n",
    "| **Concept** | **Meaning** | **Example** |\n",
    "|--------------|-------------|--------------|\n",
    "| **Population** | The complete group of individuals, items, or data you want to study. | All employees in a company. |\n",
    "| **Sample** | A smaller subset of the population selected for analysis. | 100 employees selected for a survey. |\n",
    "| **Parameter** | A numerical value that describes a characteristic of the population. | Average age of all employees in the company. |\n",
    "| **Statistic** | A numerical value that describes a characteristic of the sample. | Average age of the 100 surveyed employees. |\n",
    "| **Sampling Frame** | The list or source from which a sample is drawn. | Employee database or attendance list. |\n",
    "| **Sampling Unit** | Each individual element or member of the population. | Each employee. |\n",
    "\n",
    "---\n",
    "\n",
    "✅ **Summary:**\n",
    "- **Population** → Entire group you want to study.  \n",
    "- **Sample** → A small part that represents the population.  \n",
    "- **Parameter** → Describes the population.  \n",
    "- **Statistic** → Describes the sample.  \n",
    "- **Sampling Frame** → The list from which you select samples.  \n",
    "- **Sampling Unit** → The smallest individual element in the population.\n"
   ]
  },
  {
   "cell_type": "code",
   "execution_count": null,
   "id": "6c06dca6-750c-4c2b-8780-73e4de5c11ae",
   "metadata": {},
   "outputs": [],
   "source": []
  }
 ],
 "metadata": {
  "kernelspec": {
   "display_name": "Python (DataScience)",
   "language": "python",
   "name": "ds_env"
  },
  "language_info": {
   "codemirror_mode": {
    "name": "ipython",
    "version": 3
   },
   "file_extension": ".py",
   "mimetype": "text/x-python",
   "name": "python",
   "nbconvert_exporter": "python",
   "pygments_lexer": "ipython3",
   "version": "3.12.11"
  }
 },
 "nbformat": 4,
 "nbformat_minor": 5
}
